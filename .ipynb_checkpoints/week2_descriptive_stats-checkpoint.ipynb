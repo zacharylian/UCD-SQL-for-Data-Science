{
 "cells": [
  {
   "cell_type": "code",
   "execution_count": 39,
   "id": "ed20eab6",
   "metadata": {},
   "outputs": [
    {
     "name": "stdout",
     "output_type": "stream",
     "text": [
      "Requirement already satisfied: import-ipynb in /opt/anaconda3/lib/python3.8/site-packages (0.1.4)\n",
      "Requirement already satisfied: nbformat in /opt/anaconda3/lib/python3.8/site-packages (from import-ipynb) (5.1.3)\n",
      "Requirement already satisfied: IPython in /opt/anaconda3/lib/python3.8/site-packages (from import-ipynb) (7.22.0)\n",
      "Requirement already satisfied: jedi>=0.16 in /opt/anaconda3/lib/python3.8/site-packages (from IPython->import-ipynb) (0.17.2)\n",
      "Requirement already satisfied: decorator in /opt/anaconda3/lib/python3.8/site-packages (from IPython->import-ipynb) (5.0.6)\n",
      "Requirement already satisfied: traitlets>=4.2 in /opt/anaconda3/lib/python3.8/site-packages (from IPython->import-ipynb) (5.0.5)\n",
      "Requirement already satisfied: setuptools>=18.5 in /opt/anaconda3/lib/python3.8/site-packages (from IPython->import-ipynb) (65.6.3)\n",
      "Requirement already satisfied: backcall in /opt/anaconda3/lib/python3.8/site-packages (from IPython->import-ipynb) (0.2.0)\n",
      "Requirement already satisfied: appnope in /opt/anaconda3/lib/python3.8/site-packages (from IPython->import-ipynb) (0.1.2)\n",
      "Requirement already satisfied: pygments in /opt/anaconda3/lib/python3.8/site-packages (from IPython->import-ipynb) (2.8.1)\n",
      "Requirement already satisfied: pickleshare in /opt/anaconda3/lib/python3.8/site-packages (from IPython->import-ipynb) (0.7.5)\n",
      "Requirement already satisfied: pexpect>4.3 in /opt/anaconda3/lib/python3.8/site-packages (from IPython->import-ipynb) (4.8.0)\n",
      "Requirement already satisfied: prompt-toolkit!=3.0.0,!=3.0.1,<3.1.0,>=2.0.0 in /opt/anaconda3/lib/python3.8/site-packages (from IPython->import-ipynb) (3.0.17)\n",
      "Requirement already satisfied: jsonschema!=2.5.0,>=2.4 in /opt/anaconda3/lib/python3.8/site-packages (from nbformat->import-ipynb) (3.2.0)\n",
      "Requirement already satisfied: ipython-genutils in /opt/anaconda3/lib/python3.8/site-packages (from nbformat->import-ipynb) (0.2.0)\n",
      "Requirement already satisfied: jupyter-core in /opt/anaconda3/lib/python3.8/site-packages (from nbformat->import-ipynb) (4.7.1)\n",
      "Requirement already satisfied: parso<0.8.0,>=0.7.0 in /opt/anaconda3/lib/python3.8/site-packages (from jedi>=0.16->IPython->import-ipynb) (0.7.0)\n",
      "Requirement already satisfied: attrs>=17.4.0 in /opt/anaconda3/lib/python3.8/site-packages (from jsonschema!=2.5.0,>=2.4->nbformat->import-ipynb) (20.3.0)\n",
      "Requirement already satisfied: six>=1.11.0 in /opt/anaconda3/lib/python3.8/site-packages (from jsonschema!=2.5.0,>=2.4->nbformat->import-ipynb) (1.16.0)\n",
      "Requirement already satisfied: pyrsistent>=0.14.0 in /opt/anaconda3/lib/python3.8/site-packages (from jsonschema!=2.5.0,>=2.4->nbformat->import-ipynb) (0.17.3)\n",
      "Requirement already satisfied: ptyprocess>=0.5 in /opt/anaconda3/lib/python3.8/site-packages (from pexpect>4.3->IPython->import-ipynb) (0.7.0)\n",
      "Requirement already satisfied: wcwidth in /opt/anaconda3/lib/python3.8/site-packages (from prompt-toolkit!=3.0.0,!=3.0.1,<3.1.0,>=2.0.0->IPython->import-ipynb) (0.2.5)\n",
      "\n",
      "\u001b[1m[\u001b[0m\u001b[34;49mnotice\u001b[0m\u001b[1;39;49m]\u001b[0m\u001b[39;49m A new release of pip is available: \u001b[0m\u001b[31;49m23.0\u001b[0m\u001b[39;49m -> \u001b[0m\u001b[32;49m23.1.2\u001b[0m\n",
      "\u001b[1m[\u001b[0m\u001b[34;49mnotice\u001b[0m\u001b[1;39;49m]\u001b[0m\u001b[39;49m To update, run: \u001b[0m\u001b[32;49m/opt/anaconda3/bin/python -m pip install --upgrade pip\u001b[0m\n",
      "Note: you may need to restart the kernel to use updated packages.\n"
     ]
    }
   ],
   "source": [
    "pip install import-ipynb"
   ]
  },
  {
   "cell_type": "code",
   "execution_count": 40,
   "id": "1e3c172b",
   "metadata": {},
   "outputs": [
    {
     "name": "stdout",
     "output_type": "stream",
     "text": [
      "Requirement already satisfied: sqldf in /opt/anaconda3/lib/python3.8/site-packages (0.4.2)\n",
      "\n",
      "\u001b[1m[\u001b[0m\u001b[34;49mnotice\u001b[0m\u001b[1;39;49m]\u001b[0m\u001b[39;49m A new release of pip is available: \u001b[0m\u001b[31;49m23.0\u001b[0m\u001b[39;49m -> \u001b[0m\u001b[32;49m23.1.2\u001b[0m\n",
      "\u001b[1m[\u001b[0m\u001b[34;49mnotice\u001b[0m\u001b[1;39;49m]\u001b[0m\u001b[39;49m To update, run: \u001b[0m\u001b[32;49m/opt/anaconda3/bin/python -m pip install --upgrade pip\u001b[0m\n",
      "Note: you may need to restart the kernel to use updated packages.\n"
     ]
    }
   ],
   "source": [
    "pip install sqldf"
   ]
  },
  {
   "cell_type": "code",
   "execution_count": 41,
   "id": "29b826ef",
   "metadata": {},
   "outputs": [],
   "source": [
    "import pandas as pd\n",
    "import matplotlib.pyplot as plt\n",
    "import sqldf\n",
    "import import_ipynb"
   ]
  },
  {
   "cell_type": "code",
   "execution_count": 42,
   "id": "10970099",
   "metadata": {},
   "outputs": [],
   "source": [
    "athlete_df = pd.read_csv(\"athlete_events.csv\")\n",
    "noc_df = pd.read_csv(\"noc_regions.csv\")"
   ]
  },
  {
   "cell_type": "code",
   "execution_count": 43,
   "id": "fbee5b3e",
   "metadata": {},
   "outputs": [],
   "source": [
    "summer_events = sqldf.run('''SELECT\n",
    "                             ID,\n",
    "                             Name,\n",
    "                             Sex,\n",
    "                             Age,\n",
    "                             Height,\n",
    "                             Weight,\n",
    "                             NOC,\n",
    "                             Year,\n",
    "                             Sport,\n",
    "                             Event,\n",
    "                             Medal\n",
    "                           FROM\n",
    "                             athlete_df\n",
    "                           WHERE\n",
    "                             Season = \"Summer\"''')\n",
    "\n",
    "winter_events = sqldf.run('''SELECT\n",
    "                             ID,\n",
    "                             Name,\n",
    "                             Sex,\n",
    "                             Age,\n",
    "                             Height,\n",
    "                             Weight,\n",
    "                             NOC,\n",
    "                             Year,\n",
    "                             Sport,\n",
    "                             Event,\n",
    "                             Medal\n",
    "                           FROM\n",
    "                             athlete_df\n",
    "                           WHERE\n",
    "                             Season = \"Winter\"''')"
   ]
  },
  {
   "cell_type": "markdown",
   "id": "b888833b",
   "metadata": {},
   "source": [
    "# Summar of different descriptive statistics\n",
    "## Between 2 genders"
   ]
  },
  {
   "cell_type": "code",
   "execution_count": 44,
   "id": "93761eb7",
   "metadata": {},
   "outputs": [],
   "source": [
    "#Summer Olympics:\n",
    "summer_genders = sqldf.run('''SELECT Sex,\n",
    "                                COUNT(*),            \n",
    "                                COUNT(*) * 100.0 / SUM(COUNT(*)) over () AS ratio\n",
    "                             FROM summer_events\n",
    "                             GROUP BY Sex''')\n",
    "\n",
    "#Winter Olympics\n",
    "winter_genders = sqldf.run('''SELECT Sex,\n",
    "                                COUNT(*),            \n",
    "                                COUNT(*) * 100.0 / SUM(COUNT(*)) over () AS ratio\n",
    "                             FROM winter_events\n",
    "                             GROUP BY Sex''')"
   ]
  },
  {
   "cell_type": "code",
   "execution_count": 45,
   "id": "e1f2b667",
   "metadata": {},
   "outputs": [
    {
     "data": {
      "text/html": [
       "<div>\n",
       "<style scoped>\n",
       "    .dataframe tbody tr th:only-of-type {\n",
       "        vertical-align: middle;\n",
       "    }\n",
       "\n",
       "    .dataframe tbody tr th {\n",
       "        vertical-align: top;\n",
       "    }\n",
       "\n",
       "    .dataframe thead th {\n",
       "        text-align: right;\n",
       "    }\n",
       "</style>\n",
       "<table border=\"1\" class=\"dataframe\">\n",
       "  <thead>\n",
       "    <tr style=\"text-align: right;\">\n",
       "      <th></th>\n",
       "      <th>Sex</th>\n",
       "      <th>COUNT(*)</th>\n",
       "      <th>ratio</th>\n",
       "    </tr>\n",
       "  </thead>\n",
       "  <tbody>\n",
       "    <tr>\n",
       "      <th>0</th>\n",
       "      <td>F</td>\n",
       "      <td>59443</td>\n",
       "      <td>26.709713</td>\n",
       "    </tr>\n",
       "    <tr>\n",
       "      <th>1</th>\n",
       "      <td>M</td>\n",
       "      <td>163109</td>\n",
       "      <td>73.290287</td>\n",
       "    </tr>\n",
       "  </tbody>\n",
       "</table>\n",
       "</div>"
      ],
      "text/plain": [
       "  Sex  COUNT(*)      ratio\n",
       "0   F     59443  26.709713\n",
       "1   M    163109  73.290287"
      ]
     },
     "execution_count": 45,
     "metadata": {},
     "output_type": "execute_result"
    }
   ],
   "source": [
    "summer_genders"
   ]
  },
  {
   "cell_type": "code",
   "execution_count": 46,
   "id": "cf10b1de",
   "metadata": {},
   "outputs": [
    {
     "data": {
      "text/html": [
       "<div>\n",
       "<style scoped>\n",
       "    .dataframe tbody tr th:only-of-type {\n",
       "        vertical-align: middle;\n",
       "    }\n",
       "\n",
       "    .dataframe tbody tr th {\n",
       "        vertical-align: top;\n",
       "    }\n",
       "\n",
       "    .dataframe thead th {\n",
       "        text-align: right;\n",
       "    }\n",
       "</style>\n",
       "<table border=\"1\" class=\"dataframe\">\n",
       "  <thead>\n",
       "    <tr style=\"text-align: right;\">\n",
       "      <th></th>\n",
       "      <th>Sex</th>\n",
       "      <th>COUNT(*)</th>\n",
       "      <th>ratio</th>\n",
       "    </tr>\n",
       "  </thead>\n",
       "  <tbody>\n",
       "    <tr>\n",
       "      <th>0</th>\n",
       "      <td>F</td>\n",
       "      <td>15079</td>\n",
       "      <td>31.049749</td>\n",
       "    </tr>\n",
       "    <tr>\n",
       "      <th>1</th>\n",
       "      <td>M</td>\n",
       "      <td>33485</td>\n",
       "      <td>68.950251</td>\n",
       "    </tr>\n",
       "  </tbody>\n",
       "</table>\n",
       "</div>"
      ],
      "text/plain": [
       "  Sex  COUNT(*)      ratio\n",
       "0   F     15079  31.049749\n",
       "1   M     33485  68.950251"
      ]
     },
     "execution_count": 46,
     "metadata": {},
     "output_type": "execute_result"
    }
   ],
   "source": [
    "winter_genders"
   ]
  },
  {
   "cell_type": "markdown",
   "id": "0150bf10",
   "metadata": {},
   "source": [
    "The ratio between Summer Olympics and Winter Olympics are different, with men being the most dominated gender. \n",
    "One of my hypothesis would be the men:women ratio decreasing over time. "
   ]
  },
  {
   "cell_type": "code",
   "execution_count": 47,
   "id": "f1f20ff0",
   "metadata": {},
   "outputs": [],
   "source": [
    "#Summer Olympics:\n",
    "summer_difference = sqldf.run('''SELECT Sex,\n",
    "                                AVG(Age),            \n",
    "                                AVG(Height),            \n",
    "                                AVG(Weight)            \n",
    "                             FROM summer_events\n",
    "                             GROUP BY Sex''')\n",
    "\n",
    "#Winter Olympics\n",
    "winter_difference = sqldf.run('''SELECT Sex,\n",
    "                                AVG(Age),            \n",
    "                                AVG(Height),            \n",
    "                                AVG(Weight)            \n",
    "                             FROM winter_events\n",
    "                             GROUP BY Sex''')"
   ]
  },
  {
   "cell_type": "code",
   "execution_count": 48,
   "id": "7699cf1f",
   "metadata": {},
   "outputs": [
    {
     "data": {
      "text/html": [
       "<div>\n",
       "<style scoped>\n",
       "    .dataframe tbody tr th:only-of-type {\n",
       "        vertical-align: middle;\n",
       "    }\n",
       "\n",
       "    .dataframe tbody tr th {\n",
       "        vertical-align: top;\n",
       "    }\n",
       "\n",
       "    .dataframe thead th {\n",
       "        text-align: right;\n",
       "    }\n",
       "</style>\n",
       "<table border=\"1\" class=\"dataframe\">\n",
       "  <thead>\n",
       "    <tr style=\"text-align: right;\">\n",
       "      <th></th>\n",
       "      <th>Sex</th>\n",
       "      <th>AVG(Age)</th>\n",
       "      <th>AVG(Height)</th>\n",
       "      <th>AVG(Weight)</th>\n",
       "    </tr>\n",
       "  </thead>\n",
       "  <tbody>\n",
       "    <tr>\n",
       "      <th>0</th>\n",
       "      <td>F</td>\n",
       "      <td>23.660997</td>\n",
       "      <td>168.169025</td>\n",
       "      <td>60.087644</td>\n",
       "    </tr>\n",
       "    <tr>\n",
       "      <th>1</th>\n",
       "      <td>M</td>\n",
       "      <td>26.443944</td>\n",
       "      <td>178.901874</td>\n",
       "      <td>75.604195</td>\n",
       "    </tr>\n",
       "  </tbody>\n",
       "</table>\n",
       "</div>"
      ],
      "text/plain": [
       "  Sex   AVG(Age)  AVG(Height)  AVG(Weight)\n",
       "0   F  23.660997   168.169025    60.087644\n",
       "1   M  26.443944   178.901874    75.604195"
      ]
     },
     "execution_count": 48,
     "metadata": {},
     "output_type": "execute_result"
    }
   ],
   "source": [
    "summer_difference"
   ]
  },
  {
   "cell_type": "code",
   "execution_count": 49,
   "id": "8a3903a4",
   "metadata": {},
   "outputs": [
    {
     "data": {
      "text/html": [
       "<div>\n",
       "<style scoped>\n",
       "    .dataframe tbody tr th:only-of-type {\n",
       "        vertical-align: middle;\n",
       "    }\n",
       "\n",
       "    .dataframe tbody tr th {\n",
       "        vertical-align: top;\n",
       "    }\n",
       "\n",
       "    .dataframe thead th {\n",
       "        text-align: right;\n",
       "    }\n",
       "</style>\n",
       "<table border=\"1\" class=\"dataframe\">\n",
       "  <thead>\n",
       "    <tr style=\"text-align: right;\">\n",
       "      <th></th>\n",
       "      <th>Sex</th>\n",
       "      <th>AVG(Age)</th>\n",
       "      <th>AVG(Height)</th>\n",
       "      <th>AVG(Weight)</th>\n",
       "    </tr>\n",
       "  </thead>\n",
       "  <tbody>\n",
       "    <tr>\n",
       "      <th>0</th>\n",
       "      <td>F</td>\n",
       "      <td>24.014398</td>\n",
       "      <td>166.528250</td>\n",
       "      <td>59.755156</td>\n",
       "    </tr>\n",
       "    <tr>\n",
       "      <th>1</th>\n",
       "      <td>M</td>\n",
       "      <td>25.504261</td>\n",
       "      <td>178.668699</td>\n",
       "      <td>76.357058</td>\n",
       "    </tr>\n",
       "  </tbody>\n",
       "</table>\n",
       "</div>"
      ],
      "text/plain": [
       "  Sex   AVG(Age)  AVG(Height)  AVG(Weight)\n",
       "0   F  24.014398   166.528250    59.755156\n",
       "1   M  25.504261   178.668699    76.357058"
      ]
     },
     "execution_count": 49,
     "metadata": {},
     "output_type": "execute_result"
    }
   ],
   "source": [
    "winter_difference"
   ]
  },
  {
   "cell_type": "markdown",
   "id": "45e122dc",
   "metadata": {},
   "source": [
    "There are differences in both height and weight, as well as age - This could be attributed to human biology.\n",
    "One interesting fact would be the age gap during the Winter Olympics is much smaller. \n",
    "\n",
    "Another analysis would be the number and ratio of medals required. "
   ]
  },
  {
   "cell_type": "code",
   "execution_count": 50,
   "id": "71e0a92c",
   "metadata": {},
   "outputs": [],
   "source": [
    "#Summer Olympics:\n",
    "summer_medals = sqldf.run('''\n",
    "                         SELECT\n",
    "                             Year,\n",
    "                             COUNT(*) AS total_count,\n",
    "                             SUM(CASE\n",
    "                                   WHEN Medal IS NOT NULL THEN 1 ELSE 0\n",
    "                                 END) AS medal_count,\n",
    "                             SUM(CASE\n",
    "                                   WHEN Medal = \"Gold\" THEN 1 ELSE 0\n",
    "                                 END) AS gold_count,\n",
    "                             SUM(CASE\n",
    "                                   WHEN Medal = \"Silver\" THEN 1 ELSE 0\n",
    "                                 END) AS silver_count,\n",
    "                             SUM(CASE\n",
    "                                   WHEN Medal = \"Bronze\" THEN 1 ELSE 0\n",
    "                                 END) AS bronze_count\n",
    "                             FROM\n",
    "                               summer_events\n",
    "                             GROUP BY\n",
    "                               Year ''')\n",
    "summer_medals_ratio = sqldf.run('''\n",
    "                            SELECT\n",
    "                              Year,\n",
    "                              CAST(medal_count AS FLOAT) / total_count AS medal_ratio,\n",
    "                              CAST(gold_count AS FLOAT) / medal_count AS gold_ratio,\n",
    "                              CAST(silver_count AS FLOAT) / medal_count AS silver_ratio,\n",
    "                              CAST(bronze_count AS FLOAT) / medal_count AS bronze_ratio\n",
    "                            FROM\n",
    "                                summer_medals''')\n"
   ]
  },
  {
   "cell_type": "code",
   "execution_count": 51,
   "id": "a403c120",
   "metadata": {},
   "outputs": [],
   "source": [
    "#Winter Olympics:\n",
    "winter_medals = sqldf.run('''\n",
    "                         SELECT\n",
    "                             Year,\n",
    "                             COUNT(*) AS total_count,\n",
    "                             SUM(CASE\n",
    "                                   WHEN Medal IS NOT NULL THEN 1 ELSE 0\n",
    "                                 END) AS medal_count,\n",
    "                             SUM(CASE\n",
    "                                   WHEN Medal = \"Gold\" THEN 1 ELSE 0\n",
    "                                 END) AS gold_count,\n",
    "                             SUM(CASE\n",
    "                                   WHEN Medal = \"Silver\" THEN 1 ELSE 0\n",
    "                                 END) AS silver_count,\n",
    "                             SUM(CASE\n",
    "                                   WHEN Medal = \"Bronze\" THEN 1 ELSE 0\n",
    "                                 END) AS bronze_count\n",
    "                             FROM\n",
    "                               winter_events\n",
    "                             GROUP BY\n",
    "                               Year ''')\n",
    "winter_medals_ratio = sqldf.run('''\n",
    "                            SELECT\n",
    "                              Year,\n",
    "                              CAST(medal_count AS FLOAT) / total_count AS medal_ratio,\n",
    "                              CAST(gold_count AS FLOAT) / medal_count AS gold_ratio,\n",
    "                              CAST(silver_count AS FLOAT) / medal_count AS silver_ratio,\n",
    "                              CAST(bronze_count AS FLOAT) / medal_count AS bronze_ratio\n",
    "                            FROM\n",
    "                                winter_medals''')"
   ]
  },
  {
   "cell_type": "code",
   "execution_count": 52,
   "id": "329b534f",
   "metadata": {},
   "outputs": [
    {
     "data": {
      "text/plain": [
       "<matplotlib.legend.Legend at 0x7fe5a3f129d0>"
      ]
     },
     "execution_count": 52,
     "metadata": {},
     "output_type": "execute_result"
    },
    {
     "data": {
      "image/png": "[encoded data removed]",
      "text/plain": [
       "<Figure size 432x288 with 1 Axes>"
      ]
     },
     "metadata": {
      "needs_background": "light"
     },
     "output_type": "display_data"
    }
   ],
   "source": [
    "plt.plot(summer_medals.Year, summer_medals_ratio.medal_ratio, color = \"red\", label = \"Summer Olympics\")\n",
    "plt.plot(winter_medals.Year, winter_medals_ratio.medal_ratio, color = \"blue\", label = \"Winter Olympics\")\n",
    "plt.xlabel(\"Year\")\n",
    "plt.ylabel(\"Medal Ratio\")\n",
    "plt.legend()"
   ]
  },
  {
   "cell_type": "code",
   "execution_count": 53,
   "id": "1d6280dd",
   "metadata": {},
   "outputs": [
    {
     "name": "stderr",
     "output_type": "stream",
     "text": [
      "No handles with labels found to put in legend.\n"
     ]
    },
    {
     "data": {
      "image/png": "[encoded data removed]",
      "text/plain": [
       "<Figure size 432x288 with 2 Axes>"
      ]
     },
     "metadata": {
      "needs_background": "light"
     },
     "output_type": "display_data"
    }
   ],
   "source": [
    "fig, ax = plt.subplots(2)\n",
    "\n",
    "ax[0].plot(summer_medals.Year, summer_medals_ratio.gold_ratio, marker='', color='yellow', linewidth=4, label = \"gold ratio\")\n",
    "ax[0].plot(summer_medals.Year, summer_medals_ratio.silver_ratio, marker='', color='silver', linewidth=4, label = \"silver ratio\")\n",
    "ax[0].plot(summer_medals.Year, summer_medals_ratio.bronze_ratio, marker='', color='brown', linewidth=4, label = \"bronze ratio\")\n",
    "plt.legend(loc=1)\n",
    "ax[0].set_xlabel(\"Year\")\n",
    "ax[0].set_ylabel(\"Medal Ratio\")\n",
    "ax[0].set_title(\"Summer Olympics\")\n",
    "\n",
    "ax[1].plot(winter_medals.Year, winter_medals_ratio.gold_ratio, marker='', color='yellow', linewidth=4, label = \"gold ratio\")\n",
    "ax[1].plot(winter_medals.Year, winter_medals_ratio.silver_ratio, marker='', color='silver', linewidth=4, label = \"silver ratio\")\n",
    "ax[1].plot(winter_medals.Year, winter_medals_ratio.bronze_ratio, marker='', color='brown', linewidth=4, label = \"bronze ratio\")\n",
    "ax[1].legend(loc=1)\n",
    "ax[1].set_xlabel(\"Year\")\n",
    "ax[1].set_ylabel(\"Medal Ratio\")\n",
    "ax[1].set_title(\"Winter Olympics\")\n",
    "\n",
    "plt.tight_layout()"
   ]
  },
  {
   "cell_type": "markdown",
   "id": "dd7b6bd4",
   "metadata": {},
   "source": [
    "Both medal ratio and relative percentages of gold, silver and bronze medals have stabilised, which may be due to establishing norms within the 2 competitions."
   ]
  },
  {
   "cell_type": "markdown",
   "id": "0c7d8f54",
   "metadata": {},
   "source": [
    "# Submit 2-3 key points you may have discovered about the data, e.g. new relationships? Aha's! Did you come up with additional ideas for other things to review?\n",
    "\n",
    "1. Age gap between male and female athletes during the Winter is much smaller compared to Summer \n",
    "2. Percentage of participants who won medals and ratio of medals have stabilised\n",
    "3. Differences between number of participants and type of sport for the two events - required to be analysed separately"
   ]
  },
  {
   "cell_type": "markdown",
   "id": "68794d58",
   "metadata": {},
   "source": [
    "# Did you prove or disprove any of your initial hypotheses? If so, which one and what do you plan to do next?\n",
    "My first hypothesis is the male:female ratio has decreased over time. "
   ]
  },
  {
   "cell_type": "code",
   "execution_count": 54,
   "id": "e90373ad",
   "metadata": {},
   "outputs": [],
   "source": [
    "gender_ratio_summer = sqldf.run('''SELECT \n",
    "                        Year,\n",
    "                        CAST(SUM(CASE WHEN Sex = \"M\" THEN 1 ELSE 0 END) AS float) / CAST(SUM(CASE WHEN Sex = \"F\" THEN 1 ELSE 0 END) AS float)\n",
    "                          AS Ratio\n",
    "                     FROM summer_events\n",
    "                     GROUP BY Year\n",
    "                    ''')\n",
    "\n",
    "gender_ratio_winter = sqldf.run('''SELECT \n",
    "                        Year,\n",
    "                        CAST(SUM(CASE WHEN Sex = \"M\" THEN 1 ELSE 0 END) AS float) / CAST(SUM(CASE WHEN Sex = \"F\" THEN 1 ELSE 0 END) AS float)\n",
    "                          AS Ratio\n",
    "                     FROM winter_events\n",
    "                     GROUP BY Year\n",
    "                    ''')"
   ]
  },
  {
   "cell_type": "code",
   "execution_count": 55,
   "id": "80740c1d",
   "metadata": {},
   "outputs": [
    {
     "data": {
      "text/plain": [
       "<matplotlib.legend.Legend at 0x7fe5c07237f0>"
      ]
     },
     "execution_count": 55,
     "metadata": {},
     "output_type": "execute_result"
    },
    {
     "data": {
      "image/png": "[encoded data removed]",
      "text/plain": [
       "<Figure size 432x288 with 1 Axes>"
      ]
     },
     "metadata": {
      "needs_background": "light"
     },
     "output_type": "display_data"
    }
   ],
   "source": [
    "plt.plot(gender_ratio_summer.Year, gender_ratio_summer.Ratio,label=\"Summer Olympics\")\n",
    "plt.plot(gender_ratio_winter.Year, gender_ratio_winter.Ratio,label=\"Winter Olympics\")\n",
    "plt.xlabel(\"Year\")\n",
    "plt.ylabel(\"Male to Female Ratio\")\n",
    "plt.legend()"
   ]
  },
  {
   "cell_type": "markdown",
   "id": "2a8258c9",
   "metadata": {},
   "source": [
    "Assumption is correct - Male:Female ratio has decreased over time. "
   ]
  },
  {
   "cell_type": "markdown",
   "id": "20869370",
   "metadata": {},
   "source": [
    "# What additional questions are you seeking to answer?\n",
    "1. Whether my next two hypothesis are correct (tested using A/B testing)\n",
    "2. What other factors related to each athlete are affecting their performances for each event?"
   ]
  },
  {
   "cell_type": "code",
   "execution_count": null,
   "id": "df5d39e0",
   "metadata": {},
   "outputs": [],
   "source": []
  }
 ],
 "metadata": {
  "kernelspec": {
   "display_name": "Python 3",
   "language": "python",
   "name": "python3"
  },
  "language_info": {
   "codemirror_mode": {
    "name": "ipython",
    "version": 3
   },
   "file_extension": ".py",
   "mimetype": "text/x-python",
   "name": "python",
   "nbconvert_exporter": "python",
   "pygments_lexer": "ipython3",
   "version": "3.8.8"
  }
 },
 "nbformat": 4,
 "nbformat_minor": 5
}
